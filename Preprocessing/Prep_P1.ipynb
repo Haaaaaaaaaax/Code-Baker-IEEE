{
 "cells": [
  {
   "cell_type": "markdown",
   "id": "6e7fa74b",
   "metadata": {},
   "source": [
    "# <h1 style=\"text-align:center; color:blue;\">Preprocessing part 1</h1>"
   ]
  },
  {
   "cell_type": "markdown",
   "id": "33880c21",
   "metadata": {},
   "source": [
    "- Machine learning preprocessing is a crucial step to prepare raw data for modeling. \n",
    "- It typically involves handling missing (NaN) values, dealing with outliers, encoding categorical variables into numerical formats, and scaling features to ensure they are on comparable ranges. \n",
    "- Additionally, analyzing correlations between features can help with feature extraction and selection, \n",
    "allowing us to focus on the most relevant variables for our model.\n"
   ]
  },
  {
   "cell_type": "markdown",
   "id": "4dfe4988",
   "metadata": {},
   "source": [
    "# <h3 style=\"text-align:center; color:blue;\">1- Handling missing (NaN) values</h3>"
   ]
  },
  {
   "cell_type": "markdown",
   "id": "2514d36c",
   "metadata": {},
   "source": [
    "- Missing values, often represented as NaN (Not a Number), are common in real-world datasets and can negatively impact the performance of machine learning models.\n",
    "- There are several strategies to handle missing data:\n",
    "- - **Removal:** If only a small number of rows or columns contain missing values, they can be removed from the dataset.\n",
    "- - **Imputation:** Replace missing values with statistical measures such as the mean, median, or mode of the column, or use more advanced techniques like interpolation or model-based imputation.\n",
    "- The choice of method depends on the nature of the data and the amount of missing information.\n"
   ]
  },
  {
   "cell_type": "code",
   "execution_count": 1,
   "id": "ad3d5004",
   "metadata": {},
   "outputs": [
    {
     "name": "stdout",
     "output_type": "stream",
     "text": [
      "Original DataFrame with missing values:\n"
     ]
    },
    {
     "data": {
      "text/html": [
       "<div>\n",
       "<style scoped>\n",
       "    .dataframe tbody tr th:only-of-type {\n",
       "        vertical-align: middle;\n",
       "    }\n",
       "\n",
       "    .dataframe tbody tr th {\n",
       "        vertical-align: top;\n",
       "    }\n",
       "\n",
       "    .dataframe thead th {\n",
       "        text-align: right;\n",
       "    }\n",
       "</style>\n",
       "<table border=\"1\" class=\"dataframe\">\n",
       "  <thead>\n",
       "    <tr style=\"text-align: right;\">\n",
       "      <th></th>\n",
       "      <th>A</th>\n",
       "      <th>B</th>\n",
       "      <th>C</th>\n",
       "    </tr>\n",
       "  </thead>\n",
       "  <tbody>\n",
       "    <tr>\n",
       "      <th>0</th>\n",
       "      <td>1.0</td>\n",
       "      <td>NaN</td>\n",
       "      <td>cat</td>\n",
       "    </tr>\n",
       "    <tr>\n",
       "      <th>1</th>\n",
       "      <td>2.0</td>\n",
       "      <td>2.0</td>\n",
       "      <td>dog</td>\n",
       "    </tr>\n",
       "    <tr>\n",
       "      <th>2</th>\n",
       "      <td>NaN</td>\n",
       "      <td>3.0</td>\n",
       "      <td>NaN</td>\n",
       "    </tr>\n",
       "    <tr>\n",
       "      <th>3</th>\n",
       "      <td>4.0</td>\n",
       "      <td>4.0</td>\n",
       "      <td>cat</td>\n",
       "    </tr>\n",
       "    <tr>\n",
       "      <th>4</th>\n",
       "      <td>5.0</td>\n",
       "      <td>NaN</td>\n",
       "      <td>dog</td>\n",
       "    </tr>\n",
       "  </tbody>\n",
       "</table>\n",
       "</div>"
      ],
      "text/plain": [
       "     A    B    C\n",
       "0  1.0  NaN  cat\n",
       "1  2.0  2.0  dog\n",
       "2  NaN  3.0  NaN\n",
       "3  4.0  4.0  cat\n",
       "4  5.0  NaN  dog"
      ]
     },
     "execution_count": 1,
     "metadata": {},
     "output_type": "execute_result"
    }
   ],
   "source": [
    "import pandas as pd\n",
    "import numpy as np\n",
    "\n",
    "# Create a sample DataFrame with missing values\n",
    "data : dict = {\n",
    "    'A': [1, 2, np.nan, 4, 5],\n",
    "    'B': [np.nan, 2, 3, 4, np.nan],\n",
    "    'C': ['cat', 'dog', np.nan, 'cat', 'dog']\n",
    "}\n",
    "df: pd.DataFrame= pd.DataFrame(data)\n",
    "print(\"Original DataFrame with missing values:\")\n",
    "df\n"
   ]
  },
  {
   "cell_type": "code",
   "execution_count": 19,
   "id": "f0049f2d",
   "metadata": {},
   "outputs": [
    {
     "name": "stdout",
     "output_type": "stream",
     "text": [
      "\n",
      "DataFrame after dropping rows with missing values:\n"
     ]
    },
    {
     "data": {
      "text/html": [
       "<div>\n",
       "<style scoped>\n",
       "    .dataframe tbody tr th:only-of-type {\n",
       "        vertical-align: middle;\n",
       "    }\n",
       "\n",
       "    .dataframe tbody tr th {\n",
       "        vertical-align: top;\n",
       "    }\n",
       "\n",
       "    .dataframe thead th {\n",
       "        text-align: right;\n",
       "    }\n",
       "</style>\n",
       "<table border=\"1\" class=\"dataframe\">\n",
       "  <thead>\n",
       "    <tr style=\"text-align: right;\">\n",
       "      <th></th>\n",
       "      <th>A</th>\n",
       "      <th>B</th>\n",
       "      <th>C</th>\n",
       "    </tr>\n",
       "  </thead>\n",
       "  <tbody>\n",
       "    <tr>\n",
       "      <th>1</th>\n",
       "      <td>2.0</td>\n",
       "      <td>2.0</td>\n",
       "      <td>dog</td>\n",
       "    </tr>\n",
       "    <tr>\n",
       "      <th>3</th>\n",
       "      <td>4.0</td>\n",
       "      <td>4.0</td>\n",
       "      <td>cat</td>\n",
       "    </tr>\n",
       "  </tbody>\n",
       "</table>\n",
       "</div>"
      ],
      "text/plain": [
       "     A    B    C\n",
       "1  2.0  2.0  dog\n",
       "3  4.0  4.0  cat"
      ]
     },
     "execution_count": 19,
     "metadata": {},
     "output_type": "execute_result"
    }
   ],
   "source": [
    "# 1. Removal: Drop rows with any missing values\n",
    "df_dropna: pd.DataFrame = df.dropna()\n",
    "print(\"\\nDataFrame after dropping rows with missing values:\")\n",
    "df_dropna\n"
   ]
  },
  {
   "cell_type": "code",
   "execution_count": 20,
   "id": "3036aa08",
   "metadata": {},
   "outputs": [
    {
     "name": "stdout",
     "output_type": "stream",
     "text": [
      "\n",
      "DataFrame after imputing missing values in 'A' and 'B' with mean:\n"
     ]
    },
    {
     "data": {
      "text/html": [
       "<div>\n",
       "<style scoped>\n",
       "    .dataframe tbody tr th:only-of-type {\n",
       "        vertical-align: middle;\n",
       "    }\n",
       "\n",
       "    .dataframe tbody tr th {\n",
       "        vertical-align: top;\n",
       "    }\n",
       "\n",
       "    .dataframe thead th {\n",
       "        text-align: right;\n",
       "    }\n",
       "</style>\n",
       "<table border=\"1\" class=\"dataframe\">\n",
       "  <thead>\n",
       "    <tr style=\"text-align: right;\">\n",
       "      <th></th>\n",
       "      <th>A</th>\n",
       "      <th>B</th>\n",
       "      <th>C</th>\n",
       "    </tr>\n",
       "  </thead>\n",
       "  <tbody>\n",
       "    <tr>\n",
       "      <th>0</th>\n",
       "      <td>1.0</td>\n",
       "      <td>3.0</td>\n",
       "      <td>cat</td>\n",
       "    </tr>\n",
       "    <tr>\n",
       "      <th>1</th>\n",
       "      <td>2.0</td>\n",
       "      <td>2.0</td>\n",
       "      <td>dog</td>\n",
       "    </tr>\n",
       "    <tr>\n",
       "      <th>2</th>\n",
       "      <td>3.0</td>\n",
       "      <td>3.0</td>\n",
       "      <td>NaN</td>\n",
       "    </tr>\n",
       "    <tr>\n",
       "      <th>3</th>\n",
       "      <td>4.0</td>\n",
       "      <td>4.0</td>\n",
       "      <td>cat</td>\n",
       "    </tr>\n",
       "    <tr>\n",
       "      <th>4</th>\n",
       "      <td>5.0</td>\n",
       "      <td>3.0</td>\n",
       "      <td>dog</td>\n",
       "    </tr>\n",
       "  </tbody>\n",
       "</table>\n",
       "</div>"
      ],
      "text/plain": [
       "     A    B    C\n",
       "0  1.0  3.0  cat\n",
       "1  2.0  2.0  dog\n",
       "2  3.0  3.0  NaN\n",
       "3  4.0  4.0  cat\n",
       "4  5.0  3.0  dog"
      ]
     },
     "execution_count": 20,
     "metadata": {},
     "output_type": "execute_result"
    }
   ],
   "source": [
    "# 2. Imputation: Fill missing values with mean (for numeric columns)\n",
    "df_impute_mean: pd.DataFrame = df.copy()\n",
    "df_impute_mean['A'] = df_impute_mean['A'].fillna(df_impute_mean['A'].mean())\n",
    "df_impute_mean['B'] = df_impute_mean['B'].fillna(df_impute_mean['B'].mean())\n",
    "print(\"\\nDataFrame after imputing missing values in 'A' and 'B' with mean:\")\n",
    "df_impute_mean\n"
   ]
  },
  {
   "cell_type": "code",
   "execution_count": null,
   "id": "bfa6940e",
   "metadata": {},
   "outputs": [
    {
     "name": "stdout",
     "output_type": "stream",
     "text": [
      "\n",
      "DataFrame after imputing missing values in 'C' with mode:\n"
     ]
    },
    {
     "data": {
      "text/html": [
       "<div>\n",
       "<style scoped>\n",
       "    .dataframe tbody tr th:only-of-type {\n",
       "        vertical-align: middle;\n",
       "    }\n",
       "\n",
       "    .dataframe tbody tr th {\n",
       "        vertical-align: top;\n",
       "    }\n",
       "\n",
       "    .dataframe thead th {\n",
       "        text-align: right;\n",
       "    }\n",
       "</style>\n",
       "<table border=\"1\" class=\"dataframe\">\n",
       "  <thead>\n",
       "    <tr style=\"text-align: right;\">\n",
       "      <th></th>\n",
       "      <th>A</th>\n",
       "      <th>B</th>\n",
       "      <th>C</th>\n",
       "    </tr>\n",
       "  </thead>\n",
       "  <tbody>\n",
       "    <tr>\n",
       "      <th>0</th>\n",
       "      <td>1.0</td>\n",
       "      <td>NaN</td>\n",
       "      <td>cat</td>\n",
       "    </tr>\n",
       "    <tr>\n",
       "      <th>1</th>\n",
       "      <td>2.0</td>\n",
       "      <td>2.0</td>\n",
       "      <td>dog</td>\n",
       "    </tr>\n",
       "    <tr>\n",
       "      <th>2</th>\n",
       "      <td>NaN</td>\n",
       "      <td>3.0</td>\n",
       "      <td>cat</td>\n",
       "    </tr>\n",
       "    <tr>\n",
       "      <th>3</th>\n",
       "      <td>4.0</td>\n",
       "      <td>4.0</td>\n",
       "      <td>cat</td>\n",
       "    </tr>\n",
       "    <tr>\n",
       "      <th>4</th>\n",
       "      <td>5.0</td>\n",
       "      <td>NaN</td>\n",
       "      <td>dog</td>\n",
       "    </tr>\n",
       "  </tbody>\n",
       "</table>\n",
       "</div>"
      ],
      "text/plain": [
       "     A    B    C\n",
       "0  1.0  NaN  cat\n",
       "1  2.0  2.0  dog\n",
       "2  NaN  3.0  cat\n",
       "3  4.0  4.0  cat\n",
       "4  5.0  NaN  dog"
      ]
     },
     "execution_count": 21,
     "metadata": {},
     "output_type": "execute_result"
    }
   ],
   "source": [
    "# 3. Imputation: Fill missing values with mode (for categorical columns)\n",
    "df_impute_mode : pd.DataFrame = df.copy()\n",
    "mode_c: str = df_impute_mode['C'].mode()[0]\n",
    "df_impute_mode['C'] = df_impute_mode['C'].fillna(mode_c)\n",
    "print(\"\\nDataFrame after imputing missing values in 'C' with mode:\")\n",
    "df_impute_mode\n"
   ]
  },
  {
   "cell_type": "markdown",
   "id": "27617f9f",
   "metadata": {},
   "source": [
    "# <h3 style=\"text-align:center; color:blue;\">Outliers</h3>"
   ]
  },
  {
   "cell_type": "markdown",
   "id": "a58178d4",
   "metadata": {},
   "source": [
    "- Outliers are data points that differ significantly from other observations in a dataset.\n",
    "- They can occur due to variability in the data, measurement errors, or experimental anomalies.\n",
    "- Outliers can skew statistical analyses and affect the performance of machine learning models.\n",
    "\n",
    "- Common methods to detect outliers include:\n",
    "  - Visualizations: Box plots, scatter plots, and histograms can help identify outliers.\n",
    "  - Statistical methods: Using the Interquartile Range (IQR), Z-score, or modified Z-score.\n",
    "\n",
    "- Ways to deal with outliers:\n",
    "  1. Remove outliers: Exclude them from the dataset if they are due to errors or are not relevant.\n",
    "  2. Transform data: Apply transformations (e.g., log, square root) to reduce the impact of outliers.\n",
    "  3. Impute outliers: Replace outlier values with more typical values (e.g., mean, median).\n",
    "  4. Use robust models: Some algorithms are less sensitive to outliers (e.g., tree-based models).\n",
    "\n",
    "- The choice of method depends on the context and the reason for the outliers.\n"
   ]
  },
  {
   "cell_type": "code",
   "execution_count": 24,
   "id": "8ceebcde",
   "metadata": {},
   "outputs": [
    {
     "name": "stdout",
     "output_type": "stream",
     "text": [
      "DataFrame with an artificial outlier in column 'A':\n"
     ]
    },
    {
     "data": {
      "text/html": [
       "<div>\n",
       "<style scoped>\n",
       "    .dataframe tbody tr th:only-of-type {\n",
       "        vertical-align: middle;\n",
       "    }\n",
       "\n",
       "    .dataframe tbody tr th {\n",
       "        vertical-align: top;\n",
       "    }\n",
       "\n",
       "    .dataframe thead th {\n",
       "        text-align: right;\n",
       "    }\n",
       "</style>\n",
       "<table border=\"1\" class=\"dataframe\">\n",
       "  <thead>\n",
       "    <tr style=\"text-align: right;\">\n",
       "      <th></th>\n",
       "      <th>A</th>\n",
       "      <th>B</th>\n",
       "      <th>C</th>\n",
       "    </tr>\n",
       "  </thead>\n",
       "  <tbody>\n",
       "    <tr>\n",
       "      <th>0</th>\n",
       "      <td>20.000000</td>\n",
       "      <td>2.882932</td>\n",
       "      <td>dog</td>\n",
       "    </tr>\n",
       "    <tr>\n",
       "      <th>1</th>\n",
       "      <td>4.861736</td>\n",
       "      <td>3.789606</td>\n",
       "      <td>dog</td>\n",
       "    </tr>\n",
       "    <tr>\n",
       "      <th>2</th>\n",
       "      <td>5.647689</td>\n",
       "      <td>3.383717</td>\n",
       "      <td>cat</td>\n",
       "    </tr>\n",
       "    <tr>\n",
       "      <th>3</th>\n",
       "      <td>6.523030</td>\n",
       "      <td>2.765263</td>\n",
       "      <td>cat</td>\n",
       "    </tr>\n",
       "    <tr>\n",
       "      <th>4</th>\n",
       "      <td>4.765847</td>\n",
       "      <td>3.271280</td>\n",
       "      <td>dog</td>\n",
       "    </tr>\n",
       "  </tbody>\n",
       "</table>\n",
       "</div>"
      ],
      "text/plain": [
       "           A         B    C\n",
       "0  20.000000  2.882932  dog\n",
       "1   4.861736  3.789606  dog\n",
       "2   5.647689  3.383717  cat\n",
       "3   6.523030  2.765263  cat\n",
       "4   4.765847  3.271280  dog"
      ]
     },
     "execution_count": 24,
     "metadata": {},
     "output_type": "execute_result"
    }
   ],
   "source": [
    "import numpy as np\n",
    "import numpy.typing as npt\n",
    "import pandas as pd\n",
    "import matplotlib.pyplot as plt\n",
    "\n",
    "# Generate new data with numpy\n",
    "np.random.seed(42)\n",
    "A: npt.NDArray[np.float64] = np.random.normal(loc=5, scale=1, size=5)\n",
    "B: npt.NDArray[np.float64] = np.random.normal(loc=3, scale=0.5, size=5)\n",
    "C: npt.NDArray[np.str_] = np.random.choice(['cat', 'dog'], size=5)\n",
    "\n",
    "# Introduce an artificial outlier in 'A'\n",
    "A[0] = 20\n",
    "\n",
    "df_outlier: pd.DataFrame = pd.DataFrame({'A': A, 'B': B, 'C': C})\n",
    "\n",
    "print(\"DataFrame with an artificial outlier in column 'A':\")\n",
    "df_outlier\n"
   ]
  },
  {
   "cell_type": "code",
   "execution_count": 8,
   "id": "923d3c6f",
   "metadata": {},
   "outputs": [
    {
     "data": {
      "image/png": "[encoded data removed]",
      "text/plain": [
       "<Figure size 800x400 with 2 Axes>"
      ]
     },
     "metadata": {},
     "output_type": "display_data"
    }
   ],
   "source": [
    "# 1. Visualization: Box plot to detect outliers\n",
    "plt.figure(figsize=(8, 4))\n",
    "plt.subplot(1, 2, 1)\n",
    "plt.boxplot(df_outlier['A'])\n",
    "plt.title(\"Boxplot of 'A'\")\n",
    "\n",
    "plt.subplot(1, 2, 2)\n",
    "plt.boxplot(df_outlier['B'])\n",
    "plt.title(\"Boxplot of 'B'\")\n",
    "plt.tight_layout()\n",
    "plt.show()\n"
   ]
  },
  {
   "cell_type": "markdown",
   "id": "fb711f3d",
   "metadata": {},
   "source": [
    "- The Interquartile Range (IQR) is a measure of statistical dispersion and is used to detect outliers in data.\n",
    "- It is calculated as the difference between the third quartile (Q3, the 75th percentile) and the first quartile (Q1, the 25th percentile):\n",
    "-     IQR = Q3 - Q1\n",
    "- The IQR represents the range within which the central 50% of the data lies.\n",
    " \n",
    "- Outliers are typically defined as data points that fall below (Q1 - 1.5 * IQR) or above (Q3 + 1.5 * IQR).\n",
    "- Tnd upper bounds for outlier detection.hese thresholds are called the lower a\n",
    "\n"
   ]
  },
  {
   "cell_type": "markdown",
   "id": "379b6d53",
   "metadata": {},
   "source": [
    "![\"IQR\"](https://online-learning-college.com/wp-content/uploads/2022/04/Interquartile-range-scaled.jpg)"
   ]
  },
  {
   "cell_type": "code",
   "execution_count": 25,
   "id": "89a802d7",
   "metadata": {},
   "outputs": [
    {
     "name": "stdout",
     "output_type": "stream",
     "text": [
      "\n",
      "Detected outliers in 'A' using IQR method:\n"
     ]
    },
    {
     "data": {
      "text/html": [
       "<div>\n",
       "<style scoped>\n",
       "    .dataframe tbody tr th:only-of-type {\n",
       "        vertical-align: middle;\n",
       "    }\n",
       "\n",
       "    .dataframe tbody tr th {\n",
       "        vertical-align: top;\n",
       "    }\n",
       "\n",
       "    .dataframe thead th {\n",
       "        text-align: right;\n",
       "    }\n",
       "</style>\n",
       "<table border=\"1\" class=\"dataframe\">\n",
       "  <thead>\n",
       "    <tr style=\"text-align: right;\">\n",
       "      <th></th>\n",
       "      <th>A</th>\n",
       "      <th>B</th>\n",
       "      <th>C</th>\n",
       "    </tr>\n",
       "  </thead>\n",
       "  <tbody>\n",
       "    <tr>\n",
       "      <th>0</th>\n",
       "      <td>20.0</td>\n",
       "      <td>2.882932</td>\n",
       "      <td>dog</td>\n",
       "    </tr>\n",
       "  </tbody>\n",
       "</table>\n",
       "</div>"
      ],
      "text/plain": [
       "      A         B    C\n",
       "0  20.0  2.882932  dog"
      ]
     },
     "execution_count": 25,
     "metadata": {},
     "output_type": "execute_result"
    }
   ],
   "source": [
    "# 2. Statistical method: Detect outliers using IQR\n",
    "Q1: float = df_outlier['A'].quantile(0.25)\n",
    "Q3: float = df_outlier['A'].quantile(0.75)\n",
    "IQR: float = Q3 - Q1\n",
    "lower_bound: float = Q1 - 1.5 * IQR\n",
    "upper_bound: float = Q3 + 1.5 * IQR\n",
    "\n",
    "outliers: pd.DataFrame = df_outlier[(df_outlier['A'] < lower_bound) | (df_outlier['A'] > upper_bound)]\n",
    "print(\"\\nDetected outliers in 'A' using IQR method:\")\n",
    "outliers"
   ]
  },
  {
   "cell_type": "code",
   "execution_count": 26,
   "id": "00e1ca15",
   "metadata": {},
   "outputs": [
    {
     "name": "stdout",
     "output_type": "stream",
     "text": [
      "\n",
      "DataFrame after removing outliers in 'A':\n"
     ]
    },
    {
     "data": {
      "text/html": [
       "<div>\n",
       "<style scoped>\n",
       "    .dataframe tbody tr th:only-of-type {\n",
       "        vertical-align: middle;\n",
       "    }\n",
       "\n",
       "    .dataframe tbody tr th {\n",
       "        vertical-align: top;\n",
       "    }\n",
       "\n",
       "    .dataframe thead th {\n",
       "        text-align: right;\n",
       "    }\n",
       "</style>\n",
       "<table border=\"1\" class=\"dataframe\">\n",
       "  <thead>\n",
       "    <tr style=\"text-align: right;\">\n",
       "      <th></th>\n",
       "      <th>A</th>\n",
       "      <th>B</th>\n",
       "      <th>C</th>\n",
       "    </tr>\n",
       "  </thead>\n",
       "  <tbody>\n",
       "    <tr>\n",
       "      <th>1</th>\n",
       "      <td>4.861736</td>\n",
       "      <td>3.789606</td>\n",
       "      <td>dog</td>\n",
       "    </tr>\n",
       "    <tr>\n",
       "      <th>2</th>\n",
       "      <td>5.647689</td>\n",
       "      <td>3.383717</td>\n",
       "      <td>cat</td>\n",
       "    </tr>\n",
       "    <tr>\n",
       "      <th>3</th>\n",
       "      <td>6.523030</td>\n",
       "      <td>2.765263</td>\n",
       "      <td>cat</td>\n",
       "    </tr>\n",
       "    <tr>\n",
       "      <th>4</th>\n",
       "      <td>4.765847</td>\n",
       "      <td>3.271280</td>\n",
       "      <td>dog</td>\n",
       "    </tr>\n",
       "  </tbody>\n",
       "</table>\n",
       "</div>"
      ],
      "text/plain": [
       "          A         B    C\n",
       "1  4.861736  3.789606  dog\n",
       "2  5.647689  3.383717  cat\n",
       "3  6.523030  2.765263  cat\n",
       "4  4.765847  3.271280  dog"
      ]
     },
     "execution_count": 26,
     "metadata": {},
     "output_type": "execute_result"
    }
   ],
   "source": [
    "# 3. Remove outliers\n",
    "df_no_outliers: pd.DataFrame = df_outlier[(df_outlier['A'] >= lower_bound) & (df_outlier['A'] <= upper_bound)]\n",
    "print(\"\\nDataFrame after removing outliers in 'A':\")\n",
    "df_no_outliers"
   ]
  },
  {
   "cell_type": "code",
   "execution_count": 27,
   "id": "a0da140e",
   "metadata": {},
   "outputs": [
    {
     "data": {
      "text/html": [
       "<div>\n",
       "<style scoped>\n",
       "    .dataframe tbody tr th:only-of-type {\n",
       "        vertical-align: middle;\n",
       "    }\n",
       "\n",
       "    .dataframe tbody tr th {\n",
       "        vertical-align: top;\n",
       "    }\n",
       "\n",
       "    .dataframe thead th {\n",
       "        text-align: right;\n",
       "    }\n",
       "</style>\n",
       "<table border=\"1\" class=\"dataframe\">\n",
       "  <thead>\n",
       "    <tr style=\"text-align: right;\">\n",
       "      <th></th>\n",
       "      <th>A</th>\n",
       "      <th>B</th>\n",
       "      <th>C</th>\n",
       "      <th>A_log</th>\n",
       "    </tr>\n",
       "  </thead>\n",
       "  <tbody>\n",
       "    <tr>\n",
       "      <th>0</th>\n",
       "      <td>20.000000</td>\n",
       "      <td>2.882932</td>\n",
       "      <td>dog</td>\n",
       "      <td>3.044522</td>\n",
       "    </tr>\n",
       "    <tr>\n",
       "      <th>1</th>\n",
       "      <td>4.861736</td>\n",
       "      <td>3.789606</td>\n",
       "      <td>dog</td>\n",
       "      <td>1.768446</td>\n",
       "    </tr>\n",
       "    <tr>\n",
       "      <th>2</th>\n",
       "      <td>5.647689</td>\n",
       "      <td>3.383717</td>\n",
       "      <td>cat</td>\n",
       "      <td>1.894269</td>\n",
       "    </tr>\n",
       "    <tr>\n",
       "      <th>3</th>\n",
       "      <td>6.523030</td>\n",
       "      <td>2.765263</td>\n",
       "      <td>cat</td>\n",
       "      <td>2.017969</td>\n",
       "    </tr>\n",
       "    <tr>\n",
       "      <th>4</th>\n",
       "      <td>4.765847</td>\n",
       "      <td>3.271280</td>\n",
       "      <td>dog</td>\n",
       "      <td>1.751952</td>\n",
       "    </tr>\n",
       "  </tbody>\n",
       "</table>\n",
       "</div>"
      ],
      "text/plain": [
       "           A         B    C     A_log\n",
       "0  20.000000  2.882932  dog  3.044522\n",
       "1   4.861736  3.789606  dog  1.768446\n",
       "2   5.647689  3.383717  cat  1.894269\n",
       "3   6.523030  2.765263  cat  2.017969\n",
       "4   4.765847  3.271280  dog  1.751952"
      ]
     },
     "execution_count": 27,
     "metadata": {},
     "output_type": "execute_result"
    }
   ],
   "source": [
    "# 4. Transform data: Apply log transformation to reduce outlier impact\n",
    "df_transformed: pd.DataFrame = df_outlier.copy()\n",
    "df_transformed['A_log'] = np.log1p(df_transformed['A'])  # log1p handles zero/negative values better\n",
    "df_transformed"
   ]
  },
  {
   "cell_type": "code",
   "execution_count": 14,
   "id": "fcc1cde3",
   "metadata": {},
   "outputs": [
    {
     "data": {
      "image/png": "[encoded data removed]",
      "text/plain": [
       "<Figure size 800x400 with 2 Axes>"
      ]
     },
     "metadata": {},
     "output_type": "display_data"
    }
   ],
   "source": [
    "plt.figure(figsize=(8, 4))\n",
    "plt.subplot(1, 2, 1)\n",
    "plt.hist(df_outlier['A'], bins=10, color='skyblue', edgecolor='black')\n",
    "plt.title(\"Original 'A' Distribution\")\n",
    "\n",
    "plt.subplot(1, 2, 2)\n",
    "plt.hist(df_transformed['A_log'], bins=10, color='salmon', edgecolor='black')\n",
    "plt.title(\"Log-Transformed 'A' Distribution\")\n",
    "plt.tight_layout()\n",
    "plt.show()"
   ]
  },
  {
   "cell_type": "code",
   "execution_count": 28,
   "id": "eaf5e94e",
   "metadata": {},
   "outputs": [
    {
     "name": "stdout",
     "output_type": "stream",
     "text": [
      "\n",
      "DataFrame after imputing outlier in 'A' with median:\n"
     ]
    },
    {
     "data": {
      "text/html": [
       "<div>\n",
       "<style scoped>\n",
       "    .dataframe tbody tr th:only-of-type {\n",
       "        vertical-align: middle;\n",
       "    }\n",
       "\n",
       "    .dataframe tbody tr th {\n",
       "        vertical-align: top;\n",
       "    }\n",
       "\n",
       "    .dataframe thead th {\n",
       "        text-align: right;\n",
       "    }\n",
       "</style>\n",
       "<table border=\"1\" class=\"dataframe\">\n",
       "  <thead>\n",
       "    <tr style=\"text-align: right;\">\n",
       "      <th></th>\n",
       "      <th>A</th>\n",
       "      <th>B</th>\n",
       "      <th>C</th>\n",
       "    </tr>\n",
       "  </thead>\n",
       "  <tbody>\n",
       "    <tr>\n",
       "      <th>0</th>\n",
       "      <td>5.647689</td>\n",
       "      <td>2.882932</td>\n",
       "      <td>dog</td>\n",
       "    </tr>\n",
       "    <tr>\n",
       "      <th>1</th>\n",
       "      <td>4.861736</td>\n",
       "      <td>3.789606</td>\n",
       "      <td>dog</td>\n",
       "    </tr>\n",
       "    <tr>\n",
       "      <th>2</th>\n",
       "      <td>5.647689</td>\n",
       "      <td>3.383717</td>\n",
       "      <td>cat</td>\n",
       "    </tr>\n",
       "    <tr>\n",
       "      <th>3</th>\n",
       "      <td>6.523030</td>\n",
       "      <td>2.765263</td>\n",
       "      <td>cat</td>\n",
       "    </tr>\n",
       "    <tr>\n",
       "      <th>4</th>\n",
       "      <td>4.765847</td>\n",
       "      <td>3.271280</td>\n",
       "      <td>dog</td>\n",
       "    </tr>\n",
       "  </tbody>\n",
       "</table>\n",
       "</div>"
      ],
      "text/plain": [
       "          A         B    C\n",
       "0  5.647689  2.882932  dog\n",
       "1  4.861736  3.789606  dog\n",
       "2  5.647689  3.383717  cat\n",
       "3  6.523030  2.765263  cat\n",
       "4  4.765847  3.271280  dog"
      ]
     },
     "execution_count": 28,
     "metadata": {},
     "output_type": "execute_result"
    }
   ],
   "source": [
    "# 5. Impute outlier: Replace outlier with median\n",
    "median_A: float = df_outlier['A'].median()\n",
    "df_impute_outlier: pd.DataFrame = df_outlier.copy()\n",
    "df_impute_outlier.loc[(df_impute_outlier['A'] < lower_bound) | (df_impute_outlier['A'] > upper_bound), 'A'] = median_A\n",
    "print(\"\\nDataFrame after imputing outlier in 'A' with median:\")\n",
    "df_impute_outlier"
   ]
  },
  {
   "cell_type": "code",
   "execution_count": null,
   "id": "0c5a3b61",
   "metadata": {},
   "outputs": [],
   "source": []
  }
 ],
 "metadata": {
  "kernelspec": {
   "display_name": "Ai",
   "language": "python",
   "name": "python3"
  },
  "language_info": {
   "codemirror_mode": {
    "name": "ipython",
    "version": 3
   },
   "file_extension": ".py",
   "mimetype": "text/x-python",
   "name": "python",
   "nbconvert_exporter": "python",
   "pygments_lexer": "ipython3",
   "version": "3.10.13"
  }
 },
 "nbformat": 4,
 "nbformat_minor": 5
}
