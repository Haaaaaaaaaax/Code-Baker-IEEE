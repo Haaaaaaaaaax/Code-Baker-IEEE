{
 "cells": [
  {
   "cell_type": "markdown",
   "id": "12fe71e3",
   "metadata": {},
   "source": [
    "# <h1 style=\"text-align:center; color:blue;\">Regression algorithms part 1</h1>"
   ]
  },
  {
   "cell_type": "markdown",
   "id": "393027ec",
   "metadata": {},
   "source": [
    "- Regression problems are a type of supervised machine learning task where the goal is to predict a continuous numerical value based on input features. In regression, the output variable is quantitative, such as predicting house prices, temperatures, or sales amounts. Unlike classification, which predicts discrete labels, regression models estimate real-valued outcomes and are evaluated using metrics like Mean Squared Error (MSE) or Mean Absolute Error (MAE).\n"
   ]
  },
  {
   "cell_type": "markdown",
   "id": "403c21f2",
   "metadata": {},
   "source": [
    "![\"Regression\"](https://media.geeksforgeeks.org/wp-content/uploads/20231018110652/Regression-Line-copy.webp)"
   ]
  },
  {
   "cell_type": "markdown",
   "id": "cc113d21",
   "metadata": {},
   "source": [
    "- After selecting a regression algorithm, the next steps involve training the model and evaluating its performance. \n",
    "- Training the model means fitting it to the available data so it can learn the relationship between input features and the target variable.\n",
    "- Once trained, the model's predictions are compared to actual values using evaluation metrics such as R2 Score (R2) or Mean Squared Error (MSE) or Mean Absolute Error (MAE).\n",
    "- This evaluation helps determine how well the model generalizes to new, unseen data and guides further improvements.\n"
   ]
  },
  {
   "cell_type": "markdown",
   "id": "8db33771",
   "metadata": {},
   "source": [
    "### Common regression algorithms include:\n",
    "- Linear Regression\n",
    "- Polynomial Regression\n",
    "- SGD Regression\n",
    "- Ridge Regression\n",
    "- Lasso Regression\n",
    "- Elastic Net Regression\n",
    "- Support Vector Regression (SVR)\n",
    "- Decision Tree Regression\n",
    "- Random Forest Regression\n",
    "- K-Nearest Neighbors Regression (KNN Regression)\n",
    "- Bayesian Regression\n",
    "- Gradient Boosting Regression (e.g., XGBoost, LightGBM, CatBoost)\n",
    "- Neural Network Regression (Deep Learning)\n",
    "\n",
    "**Each algorithm has its own strengths and is suitable for different types of regression problems.**\n"
   ]
  },
  {
   "cell_type": "code",
   "execution_count": 44,
   "id": "f561a4f9",
   "metadata": {},
   "outputs": [
    {
     "data": {
      "text/html": [
       "<div>\n",
       "<style scoped>\n",
       "    .dataframe tbody tr th:only-of-type {\n",
       "        vertical-align: middle;\n",
       "    }\n",
       "\n",
       "    .dataframe tbody tr th {\n",
       "        vertical-align: top;\n",
       "    }\n",
       "\n",
       "    .dataframe thead th {\n",
       "        text-align: right;\n",
       "    }\n",
       "</style>\n",
       "<table border=\"1\" class=\"dataframe\">\n",
       "  <thead>\n",
       "    <tr style=\"text-align: right;\">\n",
       "      <th></th>\n",
       "      <th>Age</th>\n",
       "      <th>Salary</th>\n",
       "      <th>Experience</th>\n",
       "      <th>Department</th>\n",
       "      <th>Education</th>\n",
       "      <th>Target</th>\n",
       "    </tr>\n",
       "  </thead>\n",
       "  <tbody>\n",
       "    <tr>\n",
       "      <th>0</th>\n",
       "      <td>56</td>\n",
       "      <td>81832.342955</td>\n",
       "      <td>38</td>\n",
       "      <td>Engineering</td>\n",
       "      <td>Masters</td>\n",
       "      <td>48667.579506</td>\n",
       "    </tr>\n",
       "    <tr>\n",
       "      <th>1</th>\n",
       "      <td>69</td>\n",
       "      <td>65486.978908</td>\n",
       "      <td>39</td>\n",
       "      <td>Sales</td>\n",
       "      <td>PhD</td>\n",
       "      <td>42252.803816</td>\n",
       "    </tr>\n",
       "    <tr>\n",
       "      <th>2</th>\n",
       "      <td>46</td>\n",
       "      <td>27209.450511</td>\n",
       "      <td>34</td>\n",
       "      <td>Sales</td>\n",
       "      <td>Masters</td>\n",
       "      <td>35238.966120</td>\n",
       "    </tr>\n",
       "    <tr>\n",
       "      <th>3</th>\n",
       "      <td>32</td>\n",
       "      <td>42736.488907</td>\n",
       "      <td>33</td>\n",
       "      <td>Sales</td>\n",
       "      <td>Masters</td>\n",
       "      <td>40143.743099</td>\n",
       "    </tr>\n",
       "    <tr>\n",
       "      <th>4</th>\n",
       "      <td>60</td>\n",
       "      <td>69003.667238</td>\n",
       "      <td>23</td>\n",
       "      <td>Engineering</td>\n",
       "      <td>Bachelors</td>\n",
       "      <td>55322.931530</td>\n",
       "    </tr>\n",
       "  </tbody>\n",
       "</table>\n",
       "</div>"
      ],
      "text/plain": [
       "   Age        Salary  Experience   Department  Education        Target\n",
       "0   56  81832.342955          38  Engineering    Masters  48667.579506\n",
       "1   69  65486.978908          39        Sales        PhD  42252.803816\n",
       "2   46  27209.450511          34        Sales    Masters  35238.966120\n",
       "3   32  42736.488907          33        Sales    Masters  40143.743099\n",
       "4   60  69003.667238          23  Engineering  Bachelors  55322.931530"
      ]
     },
     "execution_count": 44,
     "metadata": {},
     "output_type": "execute_result"
    }
   ],
   "source": [
    "import numpy as np\n",
    "import numpy.typing as npt\n",
    "import pandas as pd\n",
    "\n",
    "\n",
    "# 1. Generate synthetic regression dataset with both numerical and categorical features\n",
    "np.random.seed(42)\n",
    "n_samples: int = 500\n",
    "\n",
    "# Numerical features\n",
    "age: npt.NDArray[np.int64] = np.random.randint(18, 70, size=n_samples)\n",
    "salary: npt.NDArray[np.int64] = np.random.normal(50000, 15000, size=n_samples)\n",
    "experience: npt.NDArray[np.int64] = np.random.randint(0, 40, size=n_samples)\n",
    "\n",
    "# Categorical features\n",
    "departments: npt.NDArray[np.str_] = np.random.choice(['HR', 'Engineering', 'Marketing', 'Sales'], size=n_samples)\n",
    "education: npt.NDArray[np.str_] = np.random.choice(['Bachelors', 'Masters', 'PhD'], size=n_samples)\n",
    "\n",
    "# Target variable (continuous)\n",
    "target: npt.NDArray[np.float64] = (\n",
    "    20000 + age * 150 + experience * 300 +\n",
    "    (departments == 'Engineering') * 10000 +\n",
    "    (education == 'PhD') * 5000 +\n",
    "    np.random.normal(0, 5000, size=n_samples)\n",
    ")\n",
    "\n",
    "# Create DataFrame\n",
    "df: pd.DataFrame = pd.DataFrame({\n",
    "    'Age': age,\n",
    "    'Salary': salary,\n",
    "    'Experience': experience,\n",
    "    'Department': departments,\n",
    "    'Education': education,\n",
    "    'Target': target\n",
    "})\n",
    "\n",
    "df.head()"
   ]
  },
  {
   "cell_type": "code",
   "execution_count": 45,
   "id": "1c7df60d",
   "metadata": {},
   "outputs": [
    {
     "name": "stdout",
     "output_type": "stream",
     "text": [
      "NaN values in each column:\n",
      " Age           0\n",
      "Salary        0\n",
      "Experience    0\n",
      "Department    0\n",
      "Education     0\n",
      "Target        0\n",
      "dtype: int64\n"
     ]
    }
   ],
   "source": [
    "# 2. Check for NaN values\n",
    "print(\"NaN values in each column:\\n\", df.isnull().sum())\n"
   ]
  },
  {
   "cell_type": "code",
   "execution_count": 46,
   "id": "c18a9e73",
   "metadata": {},
   "outputs": [
    {
     "data": {
      "image/png": "[encoded data removed]",
      "text/plain": [
       "<Figure size 1600x500 with 4 Axes>"
      ]
     },
     "metadata": {},
     "output_type": "display_data"
    }
   ],
   "source": [
    "# 3.1 Outlier detection (using boxplot)\n",
    "\n",
    "import matplotlib.pyplot as plt\n",
    "\n",
    "features: list[str] = ['Age', 'Salary', 'Experience', 'Target']\n",
    "\n",
    "# Create subplots\n",
    "fig, axes = plt.subplots(1, len(features), figsize=(16, 5))\n",
    "\n",
    "for i, feature in enumerate(features):\n",
    "    axes[i].boxplot(df[feature])\n",
    "    axes[i].set_title(f'Boxplot of {feature}')\n",
    "    axes[i].set_xticks([1])\n",
    "    axes[i].set_xticklabels([feature])\n",
    "    axes[i].set_ylabel(feature)\n",
    "\n",
    "plt.tight_layout()\n",
    "plt.show()\n"
   ]
  },
  {
   "cell_type": "code",
   "execution_count": null,
   "id": "6ad1a152",
   "metadata": {},
   "outputs": [],
   "source": [
    "# 3.2 Outlier removal (using IQR for numerical columns)\n",
    "def remove_outliers_iqr(data: pd.DataFrame,\n",
    "                        column: str) -> pd.DataFrame:\n",
    "    Q1: float = data[column].quantile(0.25)\n",
    "    Q3: float = data[column].quantile(0.75)\n",
    "    IQR: float = Q3 - Q1\n",
    "    not_outliers: pd.DataFrame = data[(data[column] > (Q1 - 1.5 * IQR)) & (data[column] < (Q3 + 1.5 * IQR))]\n",
    "    return not_outliers\n"
   ]
  },
  {
   "cell_type": "code",
   "execution_count": 48,
   "id": "25e5b789",
   "metadata": {},
   "outputs": [],
   "source": [
    "outliers_cols: list[str] = ['Salary', 'Target']\n",
    "\n",
    "for col in outliers_cols:\n",
    "    df = remove_outliers_iqr(df, col)\n",
    "\n"
   ]
  },
  {
   "cell_type": "code",
   "execution_count": 49,
   "id": "2a915557",
   "metadata": {},
   "outputs": [
    {
     "data": {
      "image/png": "[encoded data removed]",
      "text/plain": [
       "<Figure size 1600x500 with 4 Axes>"
      ]
     },
     "metadata": {},
     "output_type": "display_data"
    }
   ],
   "source": [
    "# Check\n",
    "\n",
    "features: list[str] = ['Age', 'Salary', 'Experience', 'Target']\n",
    "\n",
    "# Create subplots\n",
    "fig, axes = plt.subplots(1, len(features), figsize=(16, 5))\n",
    "\n",
    "for i, feature in enumerate(features):\n",
    "    axes[i].boxplot(df[feature])\n",
    "    axes[i].set_title(f'Boxplot of {feature}')\n",
    "    axes[i].set_xticks([1])\n",
    "    axes[i].set_xticklabels([feature])\n",
    "    axes[i].set_ylabel(feature)\n",
    "\n",
    "plt.tight_layout()\n",
    "plt.show()\n"
   ]
  },
  {
   "cell_type": "code",
   "execution_count": 50,
   "id": "9b3ade66",
   "metadata": {},
   "outputs": [
    {
     "data": {
      "text/html": [
       "<div>\n",
       "<style scoped>\n",
       "    .dataframe tbody tr th:only-of-type {\n",
       "        vertical-align: middle;\n",
       "    }\n",
       "\n",
       "    .dataframe tbody tr th {\n",
       "        vertical-align: top;\n",
       "    }\n",
       "\n",
       "    .dataframe thead th {\n",
       "        text-align: right;\n",
       "    }\n",
       "</style>\n",
       "<table border=\"1\" class=\"dataframe\">\n",
       "  <thead>\n",
       "    <tr style=\"text-align: right;\">\n",
       "      <th></th>\n",
       "      <th>Age</th>\n",
       "      <th>Salary</th>\n",
       "      <th>Experience</th>\n",
       "      <th>Department</th>\n",
       "      <th>Education</th>\n",
       "      <th>Target</th>\n",
       "    </tr>\n",
       "  </thead>\n",
       "  <tbody>\n",
       "    <tr>\n",
       "      <th>0</th>\n",
       "      <td>0.785215</td>\n",
       "      <td>2.202647</td>\n",
       "      <td>1.569067</td>\n",
       "      <td>0</td>\n",
       "      <td>1</td>\n",
       "      <td>1.484245</td>\n",
       "    </tr>\n",
       "    <tr>\n",
       "      <th>1</th>\n",
       "      <td>1.653403</td>\n",
       "      <td>1.086735</td>\n",
       "      <td>1.657397</td>\n",
       "      <td>3</td>\n",
       "      <td>2</td>\n",
       "      <td>0.679555</td>\n",
       "    </tr>\n",
       "    <tr>\n",
       "      <th>2</th>\n",
       "      <td>0.117377</td>\n",
       "      <td>-1.526504</td>\n",
       "      <td>1.215746</td>\n",
       "      <td>3</td>\n",
       "      <td>1</td>\n",
       "      <td>-0.200284</td>\n",
       "    </tr>\n",
       "    <tr>\n",
       "      <th>3</th>\n",
       "      <td>-0.817595</td>\n",
       "      <td>-0.466460</td>\n",
       "      <td>1.127415</td>\n",
       "      <td>3</td>\n",
       "      <td>1</td>\n",
       "      <td>0.414987</td>\n",
       "    </tr>\n",
       "    <tr>\n",
       "      <th>4</th>\n",
       "      <td>1.052350</td>\n",
       "      <td>1.326823</td>\n",
       "      <td>0.244113</td>\n",
       "      <td>0</td>\n",
       "      <td>0</td>\n",
       "      <td>2.319114</td>\n",
       "    </tr>\n",
       "  </tbody>\n",
       "</table>\n",
       "</div>"
      ],
      "text/plain": [
       "        Age    Salary  Experience  Department  Education    Target\n",
       "0  0.785215  2.202647    1.569067           0          1  1.484245\n",
       "1  1.653403  1.086735    1.657397           3          2  0.679555\n",
       "2  0.117377 -1.526504    1.215746           3          1 -0.200284\n",
       "3 -0.817595 -0.466460    1.127415           3          1  0.414987\n",
       "4  1.052350  1.326823    0.244113           0          0  2.319114"
      ]
     },
     "execution_count": 50,
     "metadata": {},
     "output_type": "execute_result"
    }
   ],
   "source": [
    "# 4. Encode categorical data and scale numerical features\n",
    "\n",
    "# Splitting categorical and numerical\n",
    "categorical_df: pd.DataFrame = df.select_dtypes('object')\n",
    "numerical_df: pd.DataFrame = df.select_dtypes('number')\n",
    "\n",
    "# Getting the corresponding columns\n",
    "categorical_cols: list[str] = categorical_df.columns.to_list()\n",
    "numerical_cols: list[str] = numerical_df.columns.to_list()\n",
    "\n",
    "# Importing the functions\n",
    "from sklearn.preprocessing import StandardScaler, LabelEncoder\n",
    "\n",
    "# Encoding\n",
    "le: LabelEncoder = LabelEncoder()\n",
    "\n",
    "for col in categorical_cols:\n",
    "    df[col] = le.fit_transform(df[col])\n",
    "\n",
    "# Scaling\n",
    "scaler: StandardScaler = StandardScaler()\n",
    "\n",
    "for col in numerical_cols:\n",
    "    df[[col]] = scaler.fit_transform(df[[col]])\n",
    "\n",
    "df.head()"
   ]
  },
  {
   "cell_type": "code",
   "execution_count": 51,
   "id": "e7e0ef39",
   "metadata": {},
   "outputs": [
    {
     "name": "stdout",
     "output_type": "stream",
     "text": [
      "Shape of X_train: (396, 5)\n",
      "Shape of X_test: (99, 5)\n",
      "Shape of y_train: (396,)\n",
      "Shape of y_test: (99,)\n"
     ]
    }
   ],
   "source": [
    "# 5. Split the data into train and test sets\n",
    "\n",
    "# Importing the function\n",
    "from sklearn.model_selection import train_test_split\n",
    "\n",
    "# Getting X and y\n",
    "\n",
    "X: pd.DataFrame = df.drop('Target', axis=1)\n",
    "y: pd.Series = df['Target']\n",
    "\n",
    "# Splitting\n",
    "X_train: pd.DataFrame\n",
    "X_test: pd.DataFrame\n",
    "y_train: pd.Series\n",
    "y_test: pd.Series\n",
    "X_train, X_test, y_train, y_test = train_test_split(\n",
    "    X, y, test_size=0.2, random_state=42\n",
    ")\n",
    "\n",
    "print(\"Shape of X_train:\", X_train.shape)\n",
    "print(\"Shape of X_test:\", X_test.shape)\n",
    "print(\"Shape of y_train:\", y_train.shape)\n",
    "print(\"Shape of y_test:\", y_test.shape)\n"
   ]
  },
  {
   "cell_type": "markdown",
   "id": "b50b01b3",
   "metadata": {},
   "source": [
    "- In this section, we will focus on model training and evaluation.\n",
    "- We'll define a function that will train a regression model, then print its accuracy and error metrics.\n"
   ]
  },
  {
   "cell_type": "code",
   "execution_count": 55,
   "id": "a4729aff",
   "metadata": {},
   "outputs": [],
   "source": [
    "from sklearn.metrics import mean_squared_error\n",
    "from sklearn.base import BaseEstimator\n",
    "import numpy as np\n",
    "from typing import Union"
   ]
  },
  {
   "cell_type": "code",
   "execution_count": 56,
   "id": "1b63200b",
   "metadata": {},
   "outputs": [],
   "source": [
    "def train_and_evaluate(model: BaseEstimator,\n",
    "                       X_train: pd.DataFrame,\n",
    "                       y_train: pd.Series,\n",
    "                       X_test: pd.DataFrame,\n",
    "                       y_test: pd.Series) -> dict[str, Union[float, np.float64]]:\n",
    "    \"\"\"\n",
    "    Trains the given regression model and returns accuracy (R^2) and error (RMSE) for both train and test sets.\n",
    "    \"\"\"\n",
    "\n",
    "    # Fit the model\n",
    "    model.fit(X_train, y_train)\n",
    "    \n",
    "    # Predictions\n",
    "    y_train_pred: npt.NDArray[np.float64] = model.predict(X_train)\n",
    "    y_test_pred: npt.NDArray[np.float64] = model.predict(X_test)\n",
    "    \n",
    "    # Accuracy (R^2)\n",
    "    train_r2: float = model.score(X_train, y_train)\n",
    "    test_r2: float = model.score(X_test, y_test)\n",
    "    \n",
    "    # Error (RMSE)\n",
    "    train_rmse: np.float64 = np.sqrt(mean_squared_error(y_train, y_train_pred))\n",
    "    test_rmse: np.float64 = np.sqrt(mean_squared_error(y_test, y_test_pred))\n",
    "    \n",
    "    results: dict[str, Union[float, np.float64]] = {\n",
    "        \"train_r2\": train_r2,\n",
    "        \"test_r2\": test_r2,\n",
    "        \"train_rmse\": train_rmse,\n",
    "        \"test_rmse\": test_rmse\n",
    "    }\n",
    "    return results\n",
    "\n"
   ]
  },
  {
   "cell_type": "markdown",
   "id": "ce1aed08",
   "metadata": {},
   "source": [
    "### 1- Linear Regression"
   ]
  },
  {
   "cell_type": "code",
   "execution_count": 57,
   "id": "d6ca9c72",
   "metadata": {},
   "outputs": [
    {
     "data": {
      "text/plain": [
       "{'train_r2': 0.5064758857636442,\n",
       " 'test_r2': 0.43477786580641187,\n",
       " 'train_rmse': np.float64(0.7109626598471702),\n",
       " 'test_rmse': np.float64(0.7114399512491825)}"
      ]
     },
     "execution_count": 57,
     "metadata": {},
     "output_type": "execute_result"
    }
   ],
   "source": [
    "from sklearn.linear_model import LinearRegression\n",
    "\n",
    "LR: BaseEstimator = LinearRegression()\n",
    "\n",
    "train_and_evaluate(model= LR,\n",
    "                   X_train= X_train,\n",
    "                   y_train= y_train,\n",
    "                   X_test= X_test,\n",
    "                   y_test= y_test\n",
    "                   )\n"
   ]
  },
  {
   "cell_type": "markdown",
   "id": "9b25db97",
   "metadata": {},
   "source": [
    "**Note the bad model matrics**\n",
    "\n",
    "**Fixing is not in the course content**"
   ]
  },
  {
   "cell_type": "markdown",
   "id": "d814e38e",
   "metadata": {},
   "source": [
    "### 2- SGD Regression"
   ]
  },
  {
   "cell_type": "code",
   "execution_count": 58,
   "id": "8a43e8f5",
   "metadata": {},
   "outputs": [
    {
     "data": {
      "text/plain": [
       "{'train_r2': 0.5041785369778011,\n",
       " 'test_r2': 0.4404229239837245,\n",
       " 'train_rmse': np.float64(0.712615499886414),\n",
       " 'test_rmse': np.float64(0.7078783445502113)}"
      ]
     },
     "execution_count": 58,
     "metadata": {},
     "output_type": "execute_result"
    }
   ],
   "source": [
    "from sklearn.linear_model import SGDRegressor\n",
    "\n",
    "SGD: BaseEstimator = SGDRegressor()\n",
    "\n",
    "train_and_evaluate(model= SGD,\n",
    "                   X_train= X_train,\n",
    "                   y_train= y_train,\n",
    "                   X_test= X_test,\n",
    "                   y_test= y_test\n",
    "                   )\n"
   ]
  },
  {
   "cell_type": "markdown",
   "id": "c8fe1876",
   "metadata": {},
   "source": [
    "### 3- Ridge Regression"
   ]
  },
  {
   "cell_type": "code",
   "execution_count": 59,
   "id": "49a9d48b",
   "metadata": {},
   "outputs": [
    {
     "data": {
      "text/plain": [
       "{'train_r2': 0.5064723877727002,\n",
       " 'test_r2': 0.43503479487372,\n",
       " 'train_rmse': np.float64(0.7109651794165966),\n",
       " 'test_rmse': np.float64(0.7112782357313967)}"
      ]
     },
     "execution_count": 59,
     "metadata": {},
     "output_type": "execute_result"
    }
   ],
   "source": [
    "from sklearn.linear_model import Ridge\n",
    "\n",
    "ridge: BaseEstimator = Ridge()\n",
    "\n",
    "train_and_evaluate(model= ridge,\n",
    "                   X_train= X_train,\n",
    "                   y_train= y_train,\n",
    "                   X_test= X_test,\n",
    "                   y_test= y_test\n",
    "                   )\n"
   ]
  },
  {
   "cell_type": "markdown",
   "id": "0e9f2f75",
   "metadata": {},
   "source": [
    "### 4- Lasso Regression"
   ]
  },
  {
   "cell_type": "code",
   "execution_count": 60,
   "id": "ab354c08",
   "metadata": {},
   "outputs": [
    {
     "data": {
      "text/plain": [
       "{'train_r2': 0.0,\n",
       " 'test_r2': -0.010766416402890444,\n",
       " 'train_rmse': np.float64(1.0120281740488402),\n",
       " 'test_rmse': np.float64(0.9513801176534722)}"
      ]
     },
     "execution_count": 60,
     "metadata": {},
     "output_type": "execute_result"
    }
   ],
   "source": [
    "from sklearn.linear_model import Lasso\n",
    "\n",
    "lasso: BaseEstimator = Lasso()\n",
    "\n",
    "train_and_evaluate(model= lasso,\n",
    "                   X_train= X_train,\n",
    "                   y_train= y_train,\n",
    "                   X_test= X_test,\n",
    "                   y_test= y_test\n",
    "                   )\n"
   ]
  },
  {
   "cell_type": "markdown",
   "id": "ddbb793a",
   "metadata": {},
   "source": [
    "### 5- ElasticNet Regression"
   ]
  },
  {
   "cell_type": "code",
   "execution_count": 61,
   "id": "7832be79",
   "metadata": {},
   "outputs": [
    {
     "data": {
      "text/plain": [
       "{'train_r2': 0.02274256192437918,\n",
       " 'test_r2': 0.00421275564041057,\n",
       " 'train_rmse': np.float64(1.0004539318894166),\n",
       " 'test_rmse': np.float64(0.9443042595285438)}"
      ]
     },
     "execution_count": 61,
     "metadata": {},
     "output_type": "execute_result"
    }
   ],
   "source": [
    "from sklearn.linear_model import ElasticNet\n",
    "\n",
    "EN: BaseEstimator = ElasticNet()\n",
    "\n",
    "train_and_evaluate(model= EN,\n",
    "                   X_train= X_train,\n",
    "                   y_train= y_train,\n",
    "                   X_test= X_test,\n",
    "                   y_test= y_test\n",
    "                   )\n"
   ]
  },
  {
   "cell_type": "code",
   "execution_count": null,
   "id": "62d71a4e",
   "metadata": {},
   "outputs": [],
   "source": []
  }
 ],
 "metadata": {
  "kernelspec": {
   "display_name": "Ai",
   "language": "python",
   "name": "python3"
  },
  "language_info": {
   "codemirror_mode": {
    "name": "ipython",
    "version": 3
   },
   "file_extension": ".py",
   "mimetype": "text/x-python",
   "name": "python",
   "nbconvert_exporter": "python",
   "pygments_lexer": "ipython3",
   "version": "3.10.13"
  }
 },
 "nbformat": 4,
 "nbformat_minor": 5
}
